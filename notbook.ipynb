{
 "cells": [
  {
   "cell_type": "code",
   "execution_count": 16,
   "metadata": {},
   "outputs": [],
   "source": [
    "import numpy as np\n",
    "from game import *\n",
    "from q_learning import q_learning, double_q_learning\n",
    "from sarsa import sarsa\n",
    "\n"
   ]
  },
  {
   "cell_type": "code",
   "execution_count": null,
   "metadata": {},
   "outputs": [],
   "source": [
    "from utils import *\n",
    "import pandas as pd\n",
    "# hyperparameter tuning for sarsa (manual grid search)\n",
    "env = MDPGame(random_x=True)\n",
    "env.load_level(long_level)\n",
    "\n",
    "episode_values = [2000, 3000, 4000, 5000]\n",
    "alpha_values = [0.05, 0.1, 0.15, 0.2, 0.25]\n",
    "gamma_values = [0.9, 0.95, 0.98, 0.99, 0.999]\n",
    "epsilon_values = [0.05, 0.1, 0.125, 0.15, 0.2]\n",
    "n = 5\n",
    "\n",
    "results = []\n",
    "for alpha in alpha_values:\n",
    "    for gamma in gamma_values:\n",
    "        for epsilon in epsilon_values:\n",
    "            for episodes in episode_values:\n",
    "                result = 0\n",
    "                for _ in range(n):\n",
    "                    Q = sarsa(env, episodes, alpha, gamma, epsilon)\n",
    "                    pi = Q_to_policy(Q, env)\n",
    "                    result += test_policy(pi, env, silent=True)\n",
    "                results.append([episodes, alpha, gamma, epsilon, result/n])\n",
    "\n",
    "df = pd.DataFrame(results, columns=[\"episodes\", \"alpha\", \"gamma\", \"epsilon\", \"pass_rate\"])\n"
   ]
  },
  {
   "cell_type": "code",
   "execution_count": 24,
   "metadata": {},
   "outputs": [
    {
     "data": {
      "text/html": [
       "<div>\n",
       "<style scoped>\n",
       "    .dataframe tbody tr th:only-of-type {\n",
       "        vertical-align: middle;\n",
       "    }\n",
       "\n",
       "    .dataframe tbody tr th {\n",
       "        vertical-align: top;\n",
       "    }\n",
       "\n",
       "    .dataframe thead th {\n",
       "        text-align: right;\n",
       "    }\n",
       "</style>\n",
       "<table border=\"1\" class=\"dataframe\">\n",
       "  <thead>\n",
       "    <tr style=\"text-align: right;\">\n",
       "      <th></th>\n",
       "      <th>episodes</th>\n",
       "      <th>alpha</th>\n",
       "      <th>gamma</th>\n",
       "      <th>epsilon</th>\n",
       "      <th>pass_rate</th>\n",
       "    </tr>\n",
       "  </thead>\n",
       "  <tbody>\n",
       "    <tr>\n",
       "      <th>126</th>\n",
       "      <td>4000</td>\n",
       "      <td>0.1</td>\n",
       "      <td>0.95</td>\n",
       "      <td>0.100</td>\n",
       "      <td>1.0</td>\n",
       "    </tr>\n",
       "    <tr>\n",
       "      <th>166</th>\n",
       "      <td>4000</td>\n",
       "      <td>0.1</td>\n",
       "      <td>0.99</td>\n",
       "      <td>0.100</td>\n",
       "      <td>1.0</td>\n",
       "    </tr>\n",
       "    <tr>\n",
       "      <th>170</th>\n",
       "      <td>4000</td>\n",
       "      <td>0.1</td>\n",
       "      <td>0.99</td>\n",
       "      <td>0.125</td>\n",
       "      <td>1.0</td>\n",
       "    </tr>\n",
       "    <tr>\n",
       "      <th>354</th>\n",
       "      <td>4000</td>\n",
       "      <td>0.2</td>\n",
       "      <td>0.98</td>\n",
       "      <td>0.150</td>\n",
       "      <td>1.0</td>\n",
       "    </tr>\n",
       "  </tbody>\n",
       "</table>\n",
       "</div>"
      ],
      "text/plain": [
       "     episodes  alpha  gamma  epsilon  pass_rate\n",
       "126      4000    0.1   0.95    0.100        1.0\n",
       "166      4000    0.1   0.99    0.100        1.0\n",
       "170      4000    0.1   0.99    0.125        1.0\n",
       "354      4000    0.2   0.98    0.150        1.0"
      ]
     },
     "execution_count": 24,
     "metadata": {},
     "output_type": "execute_result"
    }
   ],
   "source": [
    "filtered_best = df[df[\"pass_rate\"] > 0.99]\n",
    "filtered_best = filtered_best[filtered_best['episodes']==filtered_best['episodes'].min()]\n",
    "filtered_best\n"
   ]
  }
 ],
 "metadata": {
  "kernelspec": {
   "display_name": "Python 3",
   "language": "python",
   "name": "python3"
  },
  "language_info": {
   "codemirror_mode": {
    "name": "ipython",
    "version": 3
   },
   "file_extension": ".py",
   "mimetype": "text/x-python",
   "name": "python",
   "nbconvert_exporter": "python",
   "pygments_lexer": "ipython3",
   "version": "3.13.0"
  }
 },
 "nbformat": 4,
 "nbformat_minor": 2
}
