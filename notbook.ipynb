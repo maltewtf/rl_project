{
 "cells": [
  {
   "cell_type": "code",
   "execution_count": 8,
   "metadata": {},
   "outputs": [],
   "source": [
    "import numpy as np\n",
    "from game import *\n",
    "from q_learning import q_learning, double_q_learning\n",
    "from sarsa import sarsa\n",
    "\n"
   ]
  },
  {
   "cell_type": "code",
   "execution_count": null,
   "metadata": {},
   "outputs": [],
   "source": [
    "from utils import *\n",
    "import pandas as pd\n",
    "# hyperparameter tuning\n",
    "env = MDPGame(random_x=True)\n",
    "env.load_level(long_level)\n",
    "\n",
    "episode_values = [500, 1000, 1500, 2000, 3000, 5000]\n",
    "alpha_values = [0.05, 0.1, 0.15, 0.2, 0.25]\n",
    "gamma_values = [0.9, 0.95, 0.98, 0.99, 0.999]\n",
    "epsilon_values = [0.05, 0.1, 0.125, 0.15, 0.2]\n",
    "\n",
    "results = []\n",
    "for alpha in alpha_values:\n",
    "    for gamma in gamma_values:\n",
    "        for epsilon in epsilon_values:\n",
    "            for episodes in episode_values:\n",
    "                Q = sarsa(env, episodes, alpha, gamma, epsilon)\n",
    "                V = reduce_Q_to_V(Q, env)\n",
    "                result = test_policy(V, env, n=100, silent=True)\n",
    "                results.append([episodes, alpha, gamma, epsilon, result])\n",
    "\n",
    "df = pd.DataFrame(results, columns=[\"episodes\", \"alpha\", \"gamma\", \"epsilon\", \"pass_rate\"])\n"
   ]
  },
  {
   "cell_type": "code",
   "execution_count": 10,
   "metadata": {},
   "outputs": [
    {
     "data": {
      "text/html": [
       "<div>\n",
       "<style scoped>\n",
       "    .dataframe tbody tr th:only-of-type {\n",
       "        vertical-align: middle;\n",
       "    }\n",
       "\n",
       "    .dataframe tbody tr th {\n",
       "        vertical-align: top;\n",
       "    }\n",
       "\n",
       "    .dataframe thead th {\n",
       "        text-align: right;\n",
       "    }\n",
       "</style>\n",
       "<table border=\"1\" class=\"dataframe\">\n",
       "  <thead>\n",
       "    <tr style=\"text-align: right;\">\n",
       "      <th></th>\n",
       "      <th>episodes</th>\n",
       "      <th>alpha</th>\n",
       "      <th>gamma</th>\n",
       "      <th>epsilon</th>\n",
       "      <th>pass_rate</th>\n",
       "    </tr>\n",
       "  </thead>\n",
       "  <tbody>\n",
       "    <tr>\n",
       "      <th>567</th>\n",
       "      <td>2000</td>\n",
       "      <td>0.15</td>\n",
       "      <td>0.990</td>\n",
       "      <td>0.125</td>\n",
       "      <td>1.0</td>\n",
       "    </tr>\n",
       "    <tr>\n",
       "      <th>588</th>\n",
       "      <td>2000</td>\n",
       "      <td>0.20</td>\n",
       "      <td>0.980</td>\n",
       "      <td>0.150</td>\n",
       "      <td>1.0</td>\n",
       "    </tr>\n",
       "    <tr>\n",
       "      <th>589</th>\n",
       "      <td>2000</td>\n",
       "      <td>0.20</td>\n",
       "      <td>0.980</td>\n",
       "      <td>0.200</td>\n",
       "      <td>1.0</td>\n",
       "    </tr>\n",
       "    <tr>\n",
       "      <th>622</th>\n",
       "      <td>2000</td>\n",
       "      <td>0.25</td>\n",
       "      <td>0.999</td>\n",
       "      <td>0.125</td>\n",
       "      <td>1.0</td>\n",
       "    </tr>\n",
       "  </tbody>\n",
       "</table>\n",
       "</div>"
      ],
      "text/plain": [
       "     episodes  alpha  gamma  epsilon  pass_rate\n",
       "567      2000   0.15  0.990    0.125        1.0\n",
       "588      2000   0.20  0.980    0.150        1.0\n",
       "589      2000   0.20  0.980    0.200        1.0\n",
       "622      2000   0.25  0.999    0.125        1.0"
      ]
     },
     "execution_count": 10,
     "metadata": {},
     "output_type": "execute_result"
    }
   ],
   "source": [
    "filtered_best = df[df[\"pass_rate\"] == 1]\n",
    "filtered_best = filtered_best[filtered_best['episodes']==filtered_best['episodes'].min()]\n",
    "filtered_best\n"
   ]
  }
 ],
 "metadata": {
  "kernelspec": {
   "display_name": "Python 3",
   "language": "python",
   "name": "python3"
  },
  "language_info": {
   "codemirror_mode": {
    "name": "ipython",
    "version": 3
   },
   "file_extension": ".py",
   "mimetype": "text/x-python",
   "name": "python",
   "nbconvert_exporter": "python",
   "pygments_lexer": "ipython3",
   "version": "3.13.2"
  }
 },
 "nbformat": 4,
 "nbformat_minor": 2
}
